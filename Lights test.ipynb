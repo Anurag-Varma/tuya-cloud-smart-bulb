{
 "cells": [
  {
   "cell_type": "code",
   "execution_count": null,
   "id": "a40187a2",
   "metadata": {},
   "outputs": [],
   "source": [
    "from EasyTuya import TuyaAPI\n",
    "from EasyTuya.devices import Lights"
   ]
  },
  {
   "cell_type": "code",
   "execution_count": null,
   "id": "9c885419",
   "metadata": {},
   "outputs": [],
   "source": [
    "api = TuyaAPI(\"your_client_id\", \"your_access_secret\")\n",
    "l1 = Lights.Light(\"your_device_id_1\", \"Light 1\")\n",
    "l2 = Lights.Light(\"your_device_id_2\", \"Light 2\")\n",
    "api.addDevices([l1, l2], \"LIGHTS\")"
   ]
  },
  {
   "cell_type": "code",
   "execution_count": null,
   "id": "114cb9cf",
   "metadata": {},
   "outputs": [],
   "source": [
    "while(True):\n",
    "        toDo = input()\n",
    "        if toDo == \"on\":\n",
    "            api.sendCommands(\"LIGHTS\", Lights.onCommand())\n",
    "        elif toDo == \"off\":\n",
    "            api.sendCommands(\"LIGHTS\", Lights.offCommand())\n",
    "        elif toDo == \"white\":\n",
    "            api.sendCommands(\"LIGHTS\", Lights.workModeCommand(\"white\"))\n",
    "        elif toDo == \"color\":\n",
    "            api.sendCommands(\"LIGHTS\", Lights.workModeCommand(\"colour\"))\n",
    "        elif toDo == \"red\":\n",
    "            api.sendCommands(\"LIGHTS\", Lights.colorCommand(Lights.redHSV))\n",
    "        elif toDo == \"blue\":\n",
    "            api.sendCommands(\"LIGHTS\", Lights.colorCommand(Lights.blueHSV))\n",
    "        elif toDo == \"rainbow\":\n",
    "            api.sendCommands(\"LIGHTS\", Lights.sceneCommand(4))\n",
    "        elif toDo.split()[0] == \"bright\":\n",
    "            api.sendCommands(\"LIGHTS\", Lights.brightnessCommand(int(toDo.split()[1])))\n",
    "        elif toDo == \"onoff\":\n",
    "            api.sendCommands(\"LIGHTS\", api.devices['LIGHTS'][0].toggleOnOff())\n",
    "        elif toDo == \"status\":\n",
    "            print(api.getStatus(\"LIGHTS\"))"
   ]
  }
 ],
 "metadata": {
  "kernelspec": {
   "display_name": "Python 3",
   "language": "python",
   "name": "python3"
  },
  "language_info": {
   "codemirror_mode": {
    "name": "ipython",
    "version": 3
   },
   "file_extension": ".py",
   "mimetype": "text/x-python",
   "name": "python",
   "nbconvert_exporter": "python",
   "pygments_lexer": "ipython3",
   "version": "3.8.8"
  }
 },
 "nbformat": 4,
 "nbformat_minor": 5
}
